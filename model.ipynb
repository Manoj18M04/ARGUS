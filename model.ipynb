{
 "cells": [
  {
   "cell_type": "code",
   "execution_count": null,
   "metadata": {
    "vscode": {
     "languageId": "plaintext"
    }
   },
   "outputs": [],
   "source": [
    "import cv2\n",
    "import torch\n",
    "import easyocr\n",
    "\n",
    "# Load the trained YOLO model\n",
    "model = torch.hub.load('ultralytics/yolov5', 'custom', path='runs/train/exp/weights/best.pt', source='local')\n",
    "\n",
    "# Initialize EasyOCR reader\n",
    "reader = easyocr.Reader(['en'])"
   ]
  },
  {
   "cell_type": "code",
   "execution_count": null,
   "metadata": {
    "vscode": {
     "languageId": "plaintext"
    }
   },
   "outputs": [],
   "source": [
    "def detect_license_plate(image_path):\n",
    "    # Load the image\n",
    "    img = cv2.imread(image_path)\n",
    "\n",
    "    # Perform YOLO detection\n",
    "    results = model(img)\n",
    "    plates = results.pandas().xyxy[0]  # Extract detection data as a pandas dataframe\n",
    "\n",
    "    for _, row in plates.iterrows():\n",
    "        x1, y1, x2, y2 = int(row['xmin']), int(row['ymin']), int(row['xmax']), int(row['ymax'])\n",
    "        plate_img = img[y1:y2, x1:x2]\n",
    "\n",
    "        # Use EasyOCR to recognize text from the license plate image\n",
    "        text_result = reader.readtext(plate_img)\n",
    "        for text in text_result:\n",
    "            license_plate = text[1]\n",
    "            print(f'Detected License Plate: {license_plate}')\n",
    "\n",
    "            # Draw bounding box and label\n",
    "            cv2.rectangle(img, (x1, y1), (x2, y2), (0, 255, 0), 2)\n",
    "            cv2.putText(img, license_plate, (x1, y1 - 10), cv2.FONT_HERSHEY_SIMPLEX, 0.9, (0, 255, 0), 2)\n",
    "\n",
    "    # Display the image with detected plates\n",
    "    cv2.imshow('Detected Plates', img)\n",
    "    cv2.waitKey(0)\n",
    "    cv2.destroyAllWindows()"
   ]
  },
  {
   "cell_type": "code",
   "execution_count": null,
   "metadata": {
    "vscode": {
     "languageId": "plaintext"
    }
   },
   "outputs": [],
   "source": [
    "# Example usage\n",
    "detect_license_plate('/dataset/test/images/6-cdmx2018aa_jpg.rf.9aedbc7ff702d75592ff33a4ebe4e99e.jpg')"
   ]
  }
 ],
 "metadata": {
  "language_info": {
   "name": "python"
  }
 },
 "nbformat": 4,
 "nbformat_minor": 2
}
